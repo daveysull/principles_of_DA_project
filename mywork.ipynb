{
 "cells": [
  {
   "cell_type": "markdown",
   "metadata": {},
   "source": [
    "# Study Workbook\n",
    "\n",
    "This workbook is where I will create drafts and ideas for final project."
   ]
  },
  {
   "cell_type": "markdown",
   "metadata": {},
   "source": [
    "For Penguins Dataset we are given 8 different colums to work with.\n",
    "All the data is associated with 3 different types of penguins: Adelie, Chinstrap & Gentoo\n",
    "Data to Analyse:\n",
    "1) Min Vs Max Vs Average - Body Mass, Flipper Length , Bill Length and Bill Width for all 3 Penguins\n",
    "Idea from https://github.com/maladeep/palmerpenguins-streamlit-eda \n",
    "\n",
    "2) Bar Charts - Will look at variables species, island and sex.\n",
    "\n",
    "3) Histograms - Will look at remaining variables as they are numeric.\n",
    "\n",
    "*Main libraries to focus on are Numpy, Pandas and Matplot Lib*"
   ]
  }
 ],
 "metadata": {
  "kernelspec": {
   "display_name": "Python 3",
   "language": "python",
   "name": "python3"
  },
  "language_info": {
   "codemirror_mode": {
    "name": "ipython",
    "version": 3
   },
   "file_extension": ".py",
   "mimetype": "text/x-python",
   "name": "python",
   "nbconvert_exporter": "python",
   "pygments_lexer": "ipython3",
   "version": "3.10.4"
  }
 },
 "nbformat": 4,
 "nbformat_minor": 2
}
