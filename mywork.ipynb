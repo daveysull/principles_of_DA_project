{
 "cells": [
  {
   "cell_type": "markdown",
   "metadata": {},
   "source": [
    "# Study Workbook\n",
    "\n",
    "This workbook is where I will create drafts and ideas for final project."
   ]
  },
  {
   "cell_type": "markdown",
   "metadata": {},
   "source": [
    "For Penguins Dataset we are given 8 different colums to work with.\n",
    "All the data is associated with 3 different types of penguins: Adelie, Chinstrap & Gentoo\n",
    "Data to Analyse:\n",
    "1) Min Vs Max Vs Average - Body Mass, Flipper Length , Bill Length and Bill Width for all 3 Penguins\n",
    "Idea from https://github.com/maladeep/palmerpenguins-streamlit-eda \n",
    "\n",
    "2) Bar Charts - Will look at variables species, island and sex.\n",
    "\n",
    "3) Histograms - Will look at remaining variables as they are numeric.\n",
    "\n",
    "*Main libraries to focus on are Numpy, Pandas and Matplot Lib*"
   ]
  },
  {
   "cell_type": "code",
   "execution_count": 12,
   "metadata": {},
   "outputs": [
    {
     "name": "stdout",
     "output_type": "stream",
     "text": [
      "              min     max         mean\n",
      "species                               \n",
      "Adelie     2850.0  4775.0  3700.662252\n",
      "Chinstrap  2700.0  4800.0  3733.088235\n",
      "Gentoo     3950.0  6300.0  5076.016260\n",
      "            min   max       mean\n",
      "species                         \n",
      "Adelie     32.1  46.0  38.791391\n",
      "Chinstrap  40.9  58.0  48.833824\n",
      "Gentoo     40.9  59.6  47.504878\n",
      "            min   max       mean\n",
      "species                         \n",
      "Adelie     32.1  46.0  38.791391\n",
      "Chinstrap  40.9  58.0  48.833824\n",
      "Gentoo     40.9  59.6  47.504878\n",
      "            min   max       mean\n",
      "species                         \n",
      "Adelie     32.1  46.0  38.791391\n",
      "Chinstrap  40.9  58.0  48.833824\n",
      "Gentoo     40.9  59.6  47.504878\n"
     ]
    }
   ],
   "source": [
    "# Using Pandas Groupby function to get the min and max body mass for each penguin\n",
    "\n",
    "import pandas as pd\n",
    "from palmerpenguins import load_penguins\n",
    "\n",
    "# Load the palmerpenguins dataset\n",
    "penguins = load_penguins()\n",
    "\n",
    "# Groupby function is one I have come across before however the .agg & .size parts are new\n",
    "min_max_mean_body_mass = penguins.groupby('species')['body_mass_g'].agg(['min', 'max', 'mean'])\n",
    "min_max_mean_bill_length_mm = penguins.groupby('species')['bill_length_mm'].agg(['min', 'max', 'mean'])\n",
    "min_max_mean_bill_depth_mm = penguins.groupby('species')['bill_length_mm'].agg(['min', 'max', 'mean'])\n",
    "min_max_mean_flipper_length_mm = penguins.groupby('species')['bill_length_mm'].agg(['min', 'max', 'mean'])\n",
    "\n",
    "print(min_max_mean_body_mass)\n",
    "print(min_max_mean_bill_depth_mm)\n",
    "print(min_max_mean_bill_length_mm)\n",
    "print(min_max_mean_flipper_length_mm)"
   ]
  }
 ],
 "metadata": {
  "kernelspec": {
   "display_name": "Python 3",
   "language": "python",
   "name": "python3"
  },
  "language_info": {
   "codemirror_mode": {
    "name": "ipython",
    "version": 3
   },
   "file_extension": ".py",
   "mimetype": "text/x-python",
   "name": "python",
   "nbconvert_exporter": "python",
   "pygments_lexer": "ipython3",
   "version": "3.10.4"
  }
 },
 "nbformat": 4,
 "nbformat_minor": 2
}
