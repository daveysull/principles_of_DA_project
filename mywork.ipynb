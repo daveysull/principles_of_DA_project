{
 "cells": [
  {
   "cell_type": "markdown",
   "metadata": {},
   "source": [
    "# Study Workbook\n",
    "\n",
    "This workbook is where I will create drafts and ideas for final project.\n",
    "The aim when studying is to provide ChatGPT with my ideas for analysis, once it provides the code needed I will then follow up to better understand through other resources like Data Camp, Real Python etc."
   ]
  },
  {
   "cell_type": "markdown",
   "metadata": {},
   "source": [
    "For Penguins Dataset we are given 8 different colums to work with.\n",
    "All the data is associated with 3 different types of penguins: Adelie, Chinstrap & Gentoo\n",
    "Data to Analyse:\n",
    "1) Min Vs Max Vs Average - Body Mass, Flipper Length , Bill Length and Bill Width for all 3 Penguins\n",
    "Idea from https://github.com/maladeep/palmerpenguins-streamlit-eda \n",
    "\n",
    "2) Bar Charts - Will look at variables species, island and sex.\n",
    "\n",
    "3) Histograms - Will look at remaining variables as they are numeric.\n",
    "\n",
    "*Main libraries to focus on are Numpy, Pandas and Matplot Lib*"
   ]
  },
  {
   "cell_type": "code",
   "execution_count": 14,
   "metadata": {},
   "outputs": [
    {
     "data": {
      "text/html": [
       "<div>\n",
       "<style scoped>\n",
       "    .dataframe tbody tr th:only-of-type {\n",
       "        vertical-align: middle;\n",
       "    }\n",
       "\n",
       "    .dataframe tbody tr th {\n",
       "        vertical-align: top;\n",
       "    }\n",
       "\n",
       "    .dataframe thead th {\n",
       "        text-align: right;\n",
       "    }\n",
       "</style>\n",
       "<table border=\"1\" class=\"dataframe\">\n",
       "  <thead>\n",
       "    <tr style=\"text-align: right;\">\n",
       "      <th></th>\n",
       "      <th>species</th>\n",
       "      <th>island</th>\n",
       "      <th>bill_length_mm</th>\n",
       "      <th>bill_depth_mm</th>\n",
       "      <th>flipper_length_mm</th>\n",
       "      <th>body_mass_g</th>\n",
       "      <th>sex</th>\n",
       "      <th>year</th>\n",
       "    </tr>\n",
       "  </thead>\n",
       "  <tbody>\n",
       "    <tr>\n",
       "      <th>0</th>\n",
       "      <td>Adelie</td>\n",
       "      <td>Torgersen</td>\n",
       "      <td>39.1</td>\n",
       "      <td>18.7</td>\n",
       "      <td>181.0</td>\n",
       "      <td>3750.0</td>\n",
       "      <td>male</td>\n",
       "      <td>2007</td>\n",
       "    </tr>\n",
       "    <tr>\n",
       "      <th>1</th>\n",
       "      <td>Adelie</td>\n",
       "      <td>Torgersen</td>\n",
       "      <td>39.5</td>\n",
       "      <td>17.4</td>\n",
       "      <td>186.0</td>\n",
       "      <td>3800.0</td>\n",
       "      <td>female</td>\n",
       "      <td>2007</td>\n",
       "    </tr>\n",
       "    <tr>\n",
       "      <th>2</th>\n",
       "      <td>Adelie</td>\n",
       "      <td>Torgersen</td>\n",
       "      <td>40.3</td>\n",
       "      <td>18.0</td>\n",
       "      <td>195.0</td>\n",
       "      <td>3250.0</td>\n",
       "      <td>female</td>\n",
       "      <td>2007</td>\n",
       "    </tr>\n",
       "    <tr>\n",
       "      <th>3</th>\n",
       "      <td>Adelie</td>\n",
       "      <td>Torgersen</td>\n",
       "      <td>NaN</td>\n",
       "      <td>NaN</td>\n",
       "      <td>NaN</td>\n",
       "      <td>NaN</td>\n",
       "      <td>NaN</td>\n",
       "      <td>2007</td>\n",
       "    </tr>\n",
       "    <tr>\n",
       "      <th>4</th>\n",
       "      <td>Adelie</td>\n",
       "      <td>Torgersen</td>\n",
       "      <td>36.7</td>\n",
       "      <td>19.3</td>\n",
       "      <td>193.0</td>\n",
       "      <td>3450.0</td>\n",
       "      <td>female</td>\n",
       "      <td>2007</td>\n",
       "    </tr>\n",
       "  </tbody>\n",
       "</table>\n",
       "</div>"
      ],
      "text/plain": [
       "  species     island  bill_length_mm  bill_depth_mm  flipper_length_mm  \\\n",
       "0  Adelie  Torgersen            39.1           18.7              181.0   \n",
       "1  Adelie  Torgersen            39.5           17.4              186.0   \n",
       "2  Adelie  Torgersen            40.3           18.0              195.0   \n",
       "3  Adelie  Torgersen             NaN            NaN                NaN   \n",
       "4  Adelie  Torgersen            36.7           19.3              193.0   \n",
       "\n",
       "   body_mass_g     sex  year  \n",
       "0       3750.0    male  2007  \n",
       "1       3800.0  female  2007  \n",
       "2       3250.0  female  2007  \n",
       "3          NaN     NaN  2007  \n",
       "4       3450.0  female  2007  "
      ]
     },
     "execution_count": 14,
     "metadata": {},
     "output_type": "execute_result"
    }
   ],
   "source": [
    "from palmerpenguins import load_penguins\n",
    "\n",
    "# Load the palmerpenguins dataset\n",
    "penguins = load_penguins()\n",
    "\n",
    "# Display the first few rows of the dataset to verify that it's loaded correctly\n",
    "penguins.head()"
   ]
  },
  {
   "cell_type": "code",
   "execution_count": 13,
   "metadata": {},
   "outputs": [
    {
     "name": "stdout",
     "output_type": "stream",
     "text": [
      "              min     max    mean\n",
      "species                          \n",
      "Adelie     2850.0  4775.0  3700.7\n",
      "Chinstrap  2700.0  4800.0  3733.1\n",
      "Gentoo     3950.0  6300.0  5076.0\n",
      "            min   max  mean\n",
      "species                    \n",
      "Adelie     32.1  46.0  38.8\n",
      "Chinstrap  40.9  58.0  48.8\n",
      "Gentoo     40.9  59.6  47.5\n",
      "            min   max  mean\n",
      "species                    \n",
      "Adelie     32.1  46.0  38.8\n",
      "Chinstrap  40.9  58.0  48.8\n",
      "Gentoo     40.9  59.6  47.5\n",
      "            min   max  mean\n",
      "species                    \n",
      "Adelie     32.1  46.0  38.8\n",
      "Chinstrap  40.9  58.0  48.8\n",
      "Gentoo     40.9  59.6  47.5\n"
     ]
    }
   ],
   "source": [
    "# Using Pandas Groupby function to get the min and max body mass for each penguin\n",
    "\n",
    "import pandas as pd\n",
    "from palmerpenguins import load_penguins\n",
    "\n",
    "# Load the palmerpenguins dataset\n",
    "penguins = load_penguins()\n",
    "\n",
    "# Groupby function is one I have come across before with SQL however the .agg & .size parts are new which I am \n",
    "# diving into via real python and a Udemy course.\n",
    "min_max_mean_body_mass = penguins.groupby('species')['body_mass_g'].agg(['min', 'max', 'mean']).round(1)\n",
    "min_max_mean_bill_length_mm = penguins.groupby('species')['bill_length_mm'].agg(['min', 'max', 'mean']).round(1)\n",
    "min_max_mean_bill_depth_mm = penguins.groupby('species')['bill_length_mm'].agg(['min', 'max', 'mean']).round(1)\n",
    "min_max_mean_flipper_length_mm = penguins.groupby('species')['bill_length_mm'].agg(['min', 'max', 'mean']).round(1)\n",
    "\n",
    "print(min_max_mean_body_mass)\n",
    "print(min_max_mean_bill_depth_mm)\n",
    "print(min_max_mean_bill_length_mm)\n",
    "print(min_max_mean_flipper_length_mm)"
   ]
  },
  {
   "cell_type": "code",
   "execution_count": 26,
   "metadata": {},
   "outputs": [
    {
     "name": "stdout",
     "output_type": "stream",
     "text": [
      "species\n",
      "Adelie       2850.0\n",
      "Chinstrap    2700.0\n",
      "Gentoo       3950.0\n",
      "Name: body_mass_g, dtype: float64\n",
      "species\n",
      "Adelie       3700.7\n",
      "Chinstrap    3733.1\n",
      "Gentoo       5076.0\n",
      "Name: body_mass_g, dtype: float64\n",
      "              min     max\n",
      "island                   \n",
      "Biscoe     2850.0  6300.0\n",
      "Dream      2700.0  4800.0\n",
      "Torgersen  2900.0  4700.0\n"
     ]
    }
   ],
   "source": [
    "# Group by practise\n",
    "\n",
    "minimum_body_mass = penguins.groupby('species')['body_mass_g'].min()\n",
    "\n",
    "avg_body_mass = penguins.groupby('species')['body_mass_g'].mean().round(1)\n",
    "\n",
    "min_max_body = penguins.groupby('island')['body_mass_g'].agg(['min', 'max']).round(1)\n",
    "\n",
    "print(minimum_body_mass)\n",
    "\n",
    "print(avg_body_mass)\n",
    "\n",
    "print(min_max_body)\n",
    "\n",
    "\n",
    "#Interesting in the results that Gentoo avg body mass is much greater than the other two."
   ]
  },
  {
   "cell_type": "markdown",
   "metadata": {},
   "source": [
    "I created the below code through a combination of ChatGPT and Data Camps course 'Introduction to Data Visualization with Matplotlib'"
   ]
  },
  {
   "cell_type": "code",
   "execution_count": 3,
   "metadata": {},
   "outputs": [
    {
     "data": {
      "image/png": "[encoded data removed]",
      "text/plain": [
       "<Figure size 640x480 with 1 Axes>"
      ]
     },
     "metadata": {},
     "output_type": "display_data"
    }
   ],
   "source": [
    "import pandas as pd\n",
    "from palmerpenguins import load_penguins\n",
    "\n",
    "# Load the palmerpenguins dataset\n",
    "penguins = load_penguins()\n",
    "\n",
    "species_count = penguins['species'].value_counts()\n",
    "\n",
    "import matplotlib.pyplot as plt\n",
    "\n",
    "# Create a bar chart - .index is identifying the different / unique 'species'\n",
    "# .value is counting how many of each there are. plt.bar(x_axis,y-axis)\n",
    "plt.bar(species_count.index, species_count.values)\n",
    "\n",
    "# Add title and labels\n",
    "plt.title('Number of Penguins by Species')\n",
    "plt.xlabel('Species')\n",
    "plt.ylabel('Count')\n",
    "\n",
    "# Show the plot\n",
    "plt.show()\n",
    "\n"
   ]
  },
  {
   "cell_type": "markdown",
   "metadata": {},
   "source": [
    "The code written below was done by myself through trial and error."
   ]
  },
  {
   "cell_type": "code",
   "execution_count": 8,
   "metadata": {},
   "outputs": [
    {
     "data": {
      "image/png": "[encoded data removed]",
      "text/plain": [
       "<Figure size 640x480 with 1 Axes>"
      ]
     },
     "metadata": {},
     "output_type": "display_data"
    }
   ],
   "source": [
    "# Import pandas for numeric functions \n",
    "import pandas as pd\n",
    "\n",
    "# Load Penguins \n",
    "from palmerpenguins import load_penguins\n",
    "penguins = load_penguins()\n",
    "\n",
    "# Perform .value_counts()\n",
    "island_count = penguins['island'].value_counts()\n",
    "\n",
    "#Import matplotlib.pyplot to for visualizations\n",
    "import matplotlib.pyplot as plt\n",
    "\n",
    "# Create Bar Chart and set x/y axis\n",
    "plt.bar(island_count.index, island_count.values)\n",
    "\n",
    "# Add titles and lables - When adding titles and labels there is no '=' \n",
    "plt.title('Island Population')\n",
    "plt.xlabel('Island')\n",
    "plt.ylabel('Count')\n",
    "\n",
    "plt.show()\n",
    "\n"
   ]
  },
  {
   "cell_type": "code",
   "execution_count": 32,
   "metadata": {},
   "outputs": [
    {
     "data": {
      "image/png": "[encoded data removed]",
      "text/plain": [
       "<Figure size 640x480 with 1 Axes>"
      ]
     },
     "metadata": {},
     "output_type": "display_data"
    }
   ],
   "source": [
    "import pandas as pd\n",
    "from palmerpenguins import load_penguins\n",
    "import matplotlib.pyplot as plt\n",
    "\n",
    "# Load penguins data\n",
    "penguins = load_penguins()\n",
    "\n",
    "# Select the 'body_mass_g' variable\n",
    "body_mass = penguins['body_mass_g']\n",
    "\n",
    "# Create the histogram - Bins is the number of intervals in the histogram \n",
    "plt.hist(body_mass, bins=20, color='skyblue', edgecolor='black')\n",
    "\n",
    "# Add title and labels\n",
    "plt.title('Histogram of Body Mass of Penguins')\n",
    "plt.xlabel('Body Mass (g)')\n",
    "plt.ylabel('Frequency')\n",
    "\n",
    "# Show the plot\n",
    "plt.show()\n",
    "\n"
   ]
  }
 ],
 "metadata": {
  "kernelspec": {
   "display_name": "Python 3",
   "language": "python",
   "name": "python3"
  },
  "language_info": {
   "codemirror_mode": {
    "name": "ipython",
    "version": 3
   },
   "file_extension": ".py",
   "mimetype": "text/x-python",
   "name": "python",
   "nbconvert_exporter": "python",
   "pygments_lexer": "ipython3",
   "version": "3.10.4"
  }
 },
 "nbformat": 4,
 "nbformat_minor": 2
}
